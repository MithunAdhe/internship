{
 "cells": [
  {
   "cell_type": "markdown",
   "metadata": {},
   "source": [
    "# Author Name : Mithun Pralhad Adhe"
   ]
  },
  {
   "cell_type": "markdown",
   "metadata": {
    "id": "kqQy9kXpIcBs"
   },
   "source": [
    "\n",
    "## Project Name (Golden Project)\n",
    "### Building a Resume Parser Using NLP (Spacy) and Machine Learning "
   ]
  },
  {
   "cell_type": "markdown",
   "metadata": {
    "id": "2qrph0npibXz"
   },
   "source": [
    "# Importing the Libraries"
   ]
  },
  {
   "cell_type": "code",
   "execution_count": 1,
   "metadata": {
    "colab": {
     "base_uri": "https://localhost:8080/"
    },
    "id": "Dkhcyr6WoOmu",
    "outputId": "39a8cd15-d9d2-4395-9548-9687ba199d68"
   },
   "outputs": [
    {
     "name": "stderr",
     "output_type": "stream",
     "text": [
      "[nltk_data] Downloading package averaged_perceptron_tagger to\n",
      "[nltk_data]     C:\\Users\\Mithun Adhe\\AppData\\Roaming\\nltk_data...\n",
      "[nltk_data]   Package averaged_perceptron_tagger is already up-to-\n",
      "[nltk_data]       date!\n",
      "[nltk_data] Downloading package stopwords to C:\\Users\\Mithun\n",
      "[nltk_data]     Adhe\\AppData\\Roaming\\nltk_data...\n",
      "[nltk_data]   Package stopwords is already up-to-date!\n",
      "[nltk_data] Downloading package wordnet to C:\\Users\\Mithun\n",
      "[nltk_data]     Adhe\\AppData\\Roaming\\nltk_data...\n",
      "[nltk_data]   Package wordnet is already up-to-date!\n",
      "[nltk_data] Downloading package omw-1.4 to C:\\Users\\Mithun\n",
      "[nltk_data]     Adhe\\AppData\\Roaming\\nltk_data...\n",
      "[nltk_data]   Package omw-1.4 is already up-to-date!\n"
     ]
    }
   ],
   "source": [
    "import pandas\n",
    "import spacy\n",
    "import nltk\n",
    "import matplotlib.pyplot as plt\n",
    "nltk.download('averaged_perceptron_tagger')\n",
    "from nltk import pos_tag\n",
    "from nltk.corpus import stopwords\n",
    "nltk.download('stopwords')\n",
    "nltk.download('wordnet')\n",
    "nltk.download('omw-1.4')\n",
    "import string\n",
    "import re"
   ]
  },
  {
   "cell_type": "markdown",
   "metadata": {
    "id": "ySFSxLok_E94"
   },
   "source": [
    "# Displaying the skills required"
   ]
  },
  {
   "cell_type": "code",
   "execution_count": 2,
   "metadata": {
    "colab": {
     "base_uri": "https://localhost:8080/",
     "height": 174
    },
    "id": "9We29Lzq_Lrb",
    "outputId": "92c6de76-e34f-4aa2-a297-daaccc1fed00"
   },
   "outputs": [
    {
     "data": {
      "text/plain": [
       "'Data mining or extracting usable data from valuable data sources Using machine learning tools to select features, create and optimize classifiers Carrying out preprocessing of structured and unstructured data Enhancing data collection procedures to include all relevant information for developing analytic systems Processing, cleansing, and validating the integrity of data to be used for analysis Analyzing large amounts of information to find patterns and solutions Developing prediction systems and machine learning algorithms Presenting results in a clear manner Propose solutions and strategies to tackle business challenges Collaborate with Business and IT teams Become a Data Science Expert & Get Your Dream Job Professional Certificate Program In Data ScienceEXPLORE PROGRAMBecome a Data Science Expert & Get Your Dream Job Data Scientist Skills You need to master the skills required for data scientist jobs in various industries and organizations if you want to pursue a data scientist career. Let’s look at the must-have data scientist qualifications. Key skills needed to become a data scientist: Programming Skills – knowledge of statistical programming languages like R, Python, and database query languages like SQL, Hive, Pig is desirable. Familiarity with Scala, Java, or C++ is an added advantage. Statistics – Good applied statistical skills, including knowledge of statistical tests, distributions, regression, maximum likelihood estimators, etc. Proficiency in statistics is essential for data-driven companies. Machine Learning – good knowledge of machine learning methods like k-Nearest Neighbors, Naive Bayes, SVM, Decision Forests. Strong Math Skills (Multivariable Calculus and Linear Algebra) - understanding the fundamentals of Multivariable Calculus and Linear Algebra is important as they form the basis of a lot of predictive performance or algorithm optimization techniques. Data Wrangling – proficiency in handling imperfections in data is an important aspect of a data scientist job description. Experience with Data Visualization Tools like matplotlib, ggplot, d3.js., Tableau that help to visually encode data Excellent Communication Skills – it is incredibly important to describe findings to a technical and non-technical audience. Strong Software Engineering Background Hands-on experience with data science tools Problem-solving aptitude Analytical mind and great business sense Degree in Computer Science, Engineering or relevant field is preferred Proven Experience as Data Analyst or Data Scientist'"
      ]
     },
     "execution_count": 2,
     "metadata": {},
     "output_type": "execute_result"
    }
   ],
   "source": [
    "skills=\"Data mining or extracting usable data from valuable data sources Using machine learning tools to select features, create and optimize classifiers Carrying out preprocessing of structured and unstructured data Enhancing data collection procedures to include all relevant information for developing analytic systems Processing, cleansing, and validating the integrity of data to be used for analysis Analyzing large amounts of information to find patterns and solutions Developing prediction systems and machine learning algorithms Presenting results in a clear manner Propose solutions and strategies to tackle business challenges Collaborate with Business and IT teams Become a Data Science Expert & Get Your Dream Job Professional Certificate Program In Data ScienceEXPLORE PROGRAMBecome a Data Science Expert & Get Your Dream Job Data Scientist Skills You need to master the skills required for data scientist jobs in various industries and organizations if you want to pursue a data scientist career. Let’s look at the must-have data scientist qualifications. Key skills needed to become a data scientist: Programming Skills – knowledge of statistical programming languages like R, Python, and database query languages like SQL, Hive, Pig is desirable. Familiarity with Scala, Java, or C++ is an added advantage. Statistics – Good applied statistical skills, including knowledge of statistical tests, distributions, regression, maximum likelihood estimators, etc. Proficiency in statistics is essential for data-driven companies. Machine Learning – good knowledge of machine learning methods like k-Nearest Neighbors, Naive Bayes, SVM, Decision Forests. Strong Math Skills (Multivariable Calculus and Linear Algebra) - understanding the fundamentals of Multivariable Calculus and Linear Algebra is important as they form the basis of a lot of predictive performance or algorithm optimization techniques. Data Wrangling – proficiency in handling imperfections in data is an important aspect of a data scientist job description. Experience with Data Visualization Tools like matplotlib, ggplot, d3.js., Tableau that help to visually encode data Excellent Communication Skills – it is incredibly important to describe findings to a technical and non-technical audience. Strong Software Engineering Background Hands-on experience with data science tools Problem-solving aptitude Analytical mind and great business sense Degree in Computer Science, Engineering or relevant field is preferred Proven Experience as Data Analyst or Data Scientist\"\n",
    "skills"
   ]
  },
  {
   "cell_type": "markdown",
   "metadata": {
    "id": "IESp45opuZV8"
   },
   "source": [
    "# Preprocessing of skills data"
   ]
  },
  {
   "cell_type": "code",
   "execution_count": 3,
   "metadata": {
    "id": "96Fv363Hue26"
   },
   "outputs": [],
   "source": [
    "text_nonpunc=''.join([char for char in skills if char not in string.punctuation])\n",
    "skills=text_nonpunc\n",
    "tokens=re.split('\\W+',skills)\n",
    "skills=tokens\n",
    "stop_words=set(stopwords.words('english'))\n",
    "re_sw=[word for word in skills if word not in stop_words]\n",
    "skills=re_sw\n",
    "ln=nltk.WordNetLemmatizer()\n",
    "lemm=[ln.lemmatize(word) for word in skills]\n",
    "skills=lemm"
   ]
  },
  {
   "cell_type": "code",
   "execution_count": 4,
   "metadata": {
    "id": "vg5M77OFAVlS"
   },
   "outputs": [],
   "source": [
    "nlp = spacy.load(\"en_core_web_sm\")\n",
    "doc=nlp(' '.join([char for char in skills]))\n",
    "def tot_list(text):\n",
    "  return set(' '.join([char for char in text]).lower().split(' '))\n",
    "skills_list=set(' '.join([chunk.text for chunk in doc.noun_chunks]+[token.lemma_ for token in doc if token.pos_ == \"VERB\"]+[entity.text for entity in doc.ents]).lower().split(' '))\n"
   ]
  },
  {
   "cell_type": "markdown",
   "metadata": {
    "id": "NWWI5MdDDjER"
   },
   "source": [
    "# Displaying the skills list"
   ]
  },
  {
   "cell_type": "code",
   "execution_count": 5,
   "metadata": {
    "colab": {
     "base_uri": "https://localhost:8080/"
    },
    "id": "0rQex6TQDpHE",
    "outputId": "81e37660-0b0d-432e-8ae9-705728843762"
   },
   "outputs": [
    {
     "data": {
      "text/plain": [
       "{'add',\n",
       " 'advantage',\n",
       " 'algebra',\n",
       " 'amount',\n",
       " 'analysis',\n",
       " 'analyst',\n",
       " 'analytic',\n",
       " 'analytical',\n",
       " 'analyze',\n",
       " 'apply',\n",
       " 'aspect',\n",
       " 'audience',\n",
       " 'background',\n",
       " 'bayes',\n",
       " 'become',\n",
       " 'business',\n",
       " 'c',\n",
       " 'calculus',\n",
       " 'career',\n",
       " 'carrying',\n",
       " 'certificate',\n",
       " 'challenge',\n",
       " 'classifier',\n",
       " 'cleanse',\n",
       " 'collaborate',\n",
       " 'collection',\n",
       " 'communication',\n",
       " 'company',\n",
       " 'computer',\n",
       " 'create',\n",
       " 'data',\n",
       " 'database',\n",
       " 'datadriven',\n",
       " 'decision',\n",
       " 'degree',\n",
       " 'describe',\n",
       " 'description',\n",
       " 'desirable',\n",
       " 'develop',\n",
       " 'dream',\n",
       " 'encode',\n",
       " 'engineering',\n",
       " 'enhance',\n",
       " 'enhancing',\n",
       " 'essential',\n",
       " 'estimator',\n",
       " 'etc',\n",
       " 'excellent',\n",
       " 'experience',\n",
       " 'expert',\n",
       " 'extract',\n",
       " 'familiarity',\n",
       " 'feature',\n",
       " 'field',\n",
       " 'find',\n",
       " 'forests',\n",
       " 'fundamental',\n",
       " 'get',\n",
       " 'ggplot',\n",
       " 'good',\n",
       " 'great',\n",
       " 'handling',\n",
       " 'handson',\n",
       " 'help',\n",
       " 'hive',\n",
       " 'imperfection',\n",
       " 'important',\n",
       " 'include',\n",
       " 'incredibly',\n",
       " 'industry',\n",
       " 'information',\n",
       " 'integrity',\n",
       " 'it',\n",
       " 'java',\n",
       " 'job',\n",
       " 'key',\n",
       " 'knearest',\n",
       " 'knowledge',\n",
       " 'language',\n",
       " 'large',\n",
       " 'learn',\n",
       " 'learning',\n",
       " 'let',\n",
       " 'likelihood',\n",
       " 'linear',\n",
       " 'look',\n",
       " 'machine',\n",
       " 'master',\n",
       " 'math',\n",
       " 'matplotlib',\n",
       " 'maximum',\n",
       " 'mind',\n",
       " 'mining',\n",
       " 'multivariable',\n",
       " 'musthave',\n",
       " 'naive',\n",
       " 'need',\n",
       " 'neighbors',\n",
       " 'nontechnical',\n",
       " 'optimize',\n",
       " 'organization',\n",
       " 'pattern',\n",
       " 'performance',\n",
       " 'pig',\n",
       " 'prediction',\n",
       " 'predictive',\n",
       " 'prefer',\n",
       " 'preferred',\n",
       " 'preprocesse',\n",
       " 'presenting',\n",
       " 'problemsolving',\n",
       " 'procedure',\n",
       " 'processing',\n",
       " 'professional',\n",
       " 'proficiency',\n",
       " 'program',\n",
       " 'programbecome',\n",
       " 'programming',\n",
       " 'proven',\n",
       " 'pursue',\n",
       " 'python',\n",
       " 'qualification',\n",
       " 'query',\n",
       " 'r',\n",
       " 'relevant',\n",
       " 'require',\n",
       " 'required',\n",
       " 'result',\n",
       " 'scala',\n",
       " 'science',\n",
       " 'scientist',\n",
       " 'select',\n",
       " 'sense',\n",
       " 'skill',\n",
       " 'skills',\n",
       " 'software',\n",
       " 'solution',\n",
       " 'source',\n",
       " 'sql',\n",
       " 'statistic',\n",
       " 'statistical',\n",
       " 'statistics',\n",
       " 'strong',\n",
       " 'structure',\n",
       " 'structured',\n",
       " 'svm',\n",
       " 'system',\n",
       " 'tableau',\n",
       " 'team',\n",
       " 'technical',\n",
       " 'tool',\n",
       " 'tools',\n",
       " 'understand',\n",
       " 'unstructured',\n",
       " 'usable',\n",
       " 'use',\n",
       " 'validate',\n",
       " 'validating',\n",
       " 'valuable',\n",
       " 'various',\n",
       " 'visualization',\n",
       " 'visually',\n",
       " 'want',\n",
       " 'wrangling',\n",
       " 'you',\n",
       " 'your'}"
      ]
     },
     "execution_count": 5,
     "metadata": {},
     "output_type": "execute_result"
    }
   ],
   "source": [
    "skills_list"
   ]
  },
  {
   "cell_type": "markdown",
   "metadata": {
    "id": "F2X92cQA-_ML"
   },
   "source": [
    "# Loading the dataset"
   ]
  },
  {
   "cell_type": "code",
   "execution_count": 7,
   "metadata": {
    "id": "mTLKw5ripKRP"
   },
   "outputs": [],
   "source": [
    "df=pandas.read_csv(\"C:/Users/Mithun Adhe/Desktop/Codeclause/Golden Project 2/UpdatedResumeDataSet.csv\")"
   ]
  },
  {
   "cell_type": "code",
   "execution_count": 8,
   "metadata": {
    "colab": {
     "base_uri": "https://localhost:8080/",
     "height": 206
    },
    "id": "vS54SH3ppSrp",
    "outputId": "1b3195cc-7c28-4f62-82ac-12f6f9931212"
   },
   "outputs": [
    {
     "data": {
      "text/html": [
       "<div>\n",
       "<style scoped>\n",
       "    .dataframe tbody tr th:only-of-type {\n",
       "        vertical-align: middle;\n",
       "    }\n",
       "\n",
       "    .dataframe tbody tr th {\n",
       "        vertical-align: top;\n",
       "    }\n",
       "\n",
       "    .dataframe thead th {\n",
       "        text-align: right;\n",
       "    }\n",
       "</style>\n",
       "<table border=\"1\" class=\"dataframe\">\n",
       "  <thead>\n",
       "    <tr style=\"text-align: right;\">\n",
       "      <th></th>\n",
       "      <th>Category</th>\n",
       "      <th>Resume</th>\n",
       "    </tr>\n",
       "  </thead>\n",
       "  <tbody>\n",
       "    <tr>\n",
       "      <th>0</th>\n",
       "      <td>Data Science</td>\n",
       "      <td>Skills * Programming Languages: Python (pandas...</td>\n",
       "    </tr>\n",
       "    <tr>\n",
       "      <th>1</th>\n",
       "      <td>Data Science</td>\n",
       "      <td>Education Details \\r\\nMay 2013 to May 2017 B.E...</td>\n",
       "    </tr>\n",
       "    <tr>\n",
       "      <th>2</th>\n",
       "      <td>Data Science</td>\n",
       "      <td>Areas of Interest Deep Learning, Control Syste...</td>\n",
       "    </tr>\n",
       "    <tr>\n",
       "      <th>3</th>\n",
       "      <td>Data Science</td>\n",
       "      <td>Skills â¢ R â¢ Python â¢ SAP HANA â¢ Table...</td>\n",
       "    </tr>\n",
       "    <tr>\n",
       "      <th>4</th>\n",
       "      <td>Data Science</td>\n",
       "      <td>Education Details \\r\\n MCA   YMCAUST,  Faridab...</td>\n",
       "    </tr>\n",
       "  </tbody>\n",
       "</table>\n",
       "</div>"
      ],
      "text/plain": [
       "       Category                                             Resume\n",
       "0  Data Science  Skills * Programming Languages: Python (pandas...\n",
       "1  Data Science  Education Details \\r\\nMay 2013 to May 2017 B.E...\n",
       "2  Data Science  Areas of Interest Deep Learning, Control Syste...\n",
       "3  Data Science  Skills â¢ R â¢ Python â¢ SAP HANA â¢ Table...\n",
       "4  Data Science  Education Details \\r\\n MCA   YMCAUST,  Faridab..."
      ]
     },
     "execution_count": 8,
     "metadata": {},
     "output_type": "execute_result"
    }
   ],
   "source": [
    "df.head()"
   ]
  },
  {
   "cell_type": "code",
   "execution_count": 9,
   "metadata": {
    "colab": {
     "base_uri": "https://localhost:8080/"
    },
    "id": "U9HgfwuwKnU8",
    "outputId": "d80e2853-885f-4b4b-9336-e4a2140142cb"
   },
   "outputs": [
    {
     "name": "stdout",
     "output_type": "stream",
     "text": [
      "<class 'pandas.core.frame.DataFrame'>\n",
      "RangeIndex: 962 entries, 0 to 961\n",
      "Data columns (total 2 columns):\n",
      " #   Column    Non-Null Count  Dtype \n",
      "---  ------    --------------  ----- \n",
      " 0   Category  962 non-null    object\n",
      " 1   Resume    962 non-null    object\n",
      "dtypes: object(2)\n",
      "memory usage: 15.2+ KB\n"
     ]
    }
   ],
   "source": [
    "df.info()"
   ]
  },
  {
   "cell_type": "markdown",
   "metadata": {
    "id": "L_zhr8ofKsJs"
   },
   "source": [
    "# There are total 962 records in dataset without any null values and the column names are **Category,Resume**"
   ]
  },
  {
   "cell_type": "markdown",
   "metadata": {
    "id": "j3RvetcOLF7N"
   },
   "source": [
    "# Description about columns\n",
    "\n",
    "1. Category =  It describes about the role/field of the job which the      applicants are insterested in\n",
    "\n",
    "2. Resume   =  It consists of the skills mentioned by the candidates"
   ]
  },
  {
   "cell_type": "code",
   "execution_count": 10,
   "metadata": {
    "colab": {
     "base_uri": "https://localhost:8080/"
    },
    "id": "paTasOrQpVNp",
    "outputId": "e525c3db-c681-4dbe-c95f-649e8bd364cb"
   },
   "outputs": [
    {
     "data": {
      "text/plain": [
       "Java Developer               84\n",
       "Testing                      70\n",
       "DevOps Engineer              55\n",
       "Python Developer             48\n",
       "Web Designing                45\n",
       "HR                           44\n",
       "Hadoop                       42\n",
       "Data Science                 40\n",
       "Operations Manager           40\n",
       "ETL Developer                40\n",
       "Blockchain                   40\n",
       "Mechanical Engineer          40\n",
       "Sales                        40\n",
       "Arts                         36\n",
       "Database                     33\n",
       "Electrical Engineering       30\n",
       "PMO                          30\n",
       "Health and fitness           30\n",
       "DotNet Developer             28\n",
       "Business Analyst             28\n",
       "Automation Testing           26\n",
       "Network Security Engineer    25\n",
       "SAP Developer                24\n",
       "Civil Engineer               24\n",
       "Advocate                     20\n",
       "Name: Category, dtype: int64"
      ]
     },
     "execution_count": 10,
     "metadata": {},
     "output_type": "execute_result"
    }
   ],
   "source": [
    "df['Category'].value_counts()"
   ]
  },
  {
   "cell_type": "code",
   "execution_count": 11,
   "metadata": {
    "colab": {
     "base_uri": "https://localhost:8080/"
    },
    "id": "PK1w2rr7MsL8",
    "outputId": "57d360dd-8da4-4927-e601-24605f60f585"
   },
   "outputs": [
    {
     "data": {
      "text/plain": [
       "25"
      ]
     },
     "execution_count": 11,
     "metadata": {},
     "output_type": "execute_result"
    }
   ],
   "source": [
    "len(df['Category'].value_counts())"
   ]
  },
  {
   "cell_type": "markdown",
   "metadata": {
    "id": "Xe5_hdaQ1_-Q"
   },
   "source": [
    "# Bar plot to visualize the resume count in each category"
   ]
  },
  {
   "cell_type": "code",
   "execution_count": 12,
   "metadata": {
    "colab": {
     "base_uri": "https://localhost:8080/",
     "height": 213
    },
    "id": "codBdRtC2Kj9",
    "outputId": "f67c5e6a-5bc8-46af-91ae-058eeb068349"
   },
   "outputs": [
    {
     "data": {
      "text/plain": [
       "Text(0, 0.5, 'count')"
      ]
     },
     "execution_count": 12,
     "metadata": {},
     "output_type": "execute_result"
    },
    {
     "data": {
      "image/png": "[encoded data removed]",
      "text/plain": [
       "<Figure size 3960x720 with 1 Axes>"
      ]
     },
     "metadata": {
      "needs_background": "light"
     },
     "output_type": "display_data"
    }
   ],
   "source": [
    "fig=plt.figure(figsize=(55,10))\n",
    "plt.bar(df['Category'].value_counts().keys(),df['Category'].value_counts().values,width=0.4)\n",
    "plt.xlabel('Categories')\n",
    "plt.ylabel('count')"
   ]
  },
  {
   "cell_type": "markdown",
   "metadata": {
    "id": "EBMBu3miLz9G"
   },
   "source": [
    "# Observation in Category-wise bar chart\n",
    "\n",
    "* Candidates are mostly mentioned in the resume as Java Developers & Testing followed by Devops\n",
    "* Data Science is in 11th place out of 25 . There are only 40 records Iin Data Science Category\n",
    "* Resumes in Advocate category occupies the last place ( 20 records )"
   ]
  },
  {
   "cell_type": "markdown",
   "metadata": {
    "id": "h6GbjQi27KB-"
   },
   "source": [
    "# Merging Category and Resume column for finding matching words and phrases"
   ]
  },
  {
   "cell_type": "code",
   "execution_count": 13,
   "metadata": {
    "id": "W7L2ta647Xtz"
   },
   "outputs": [],
   "source": [
    "df['info']=df['Category']+' '+df['Resume']"
   ]
  },
  {
   "cell_type": "markdown",
   "metadata": {
    "id": "3ar8xKJkRxCw"
   },
   "source": [
    "# Removing Punctuations in newly creating info column"
   ]
  },
  {
   "cell_type": "code",
   "execution_count": 14,
   "metadata": {
    "id": "vtU11-f5RjzJ"
   },
   "outputs": [],
   "source": [
    "def remove_punc(text):\n",
    "  text_nonpunc=''.join([char for char in text if char not in string.punctuation])\n",
    "  return text_nonpunc\n",
    "df['clean_punc']=df['info'].apply(lambda x:remove_punc(x))\n",
    "df.to_csv('after_remove_punc',index=False)"
   ]
  },
  {
   "cell_type": "markdown",
   "metadata": {
    "id": "QtfoCPpgTkd8"
   },
   "source": [
    "# Tokenization"
   ]
  },
  {
   "cell_type": "code",
   "execution_count": 15,
   "metadata": {
    "id": "gY0TounQTp2Y"
   },
   "outputs": [],
   "source": [
    "def token(text):\n",
    "  tokens=re.split('\\W+',text)\n",
    "  return tokens\n",
    "df['after_tokenization']=df['info'].apply(lambda x:token(x))\n",
    "df.to_csv('after_tokenization.csv',index=False)"
   ]
  },
  {
   "cell_type": "markdown",
   "metadata": {
    "id": "_jsktOXHVYyw"
   },
   "source": [
    "# pos tagging"
   ]
  },
  {
   "cell_type": "code",
   "execution_count": 16,
   "metadata": {
    "id": "dJis-2e9Uu_n"
   },
   "outputs": [],
   "source": [
    "from nltk import pos_tag\n",
    "def pos_tag(text):\n",
    "  pos_text=nltk.pos_tag(text)\n",
    "  return pos_text\n",
    "df['after_pos_tagging']=df['after_tokenization'].apply(lambda x:pos_tag(x))\n",
    "df.to_csv('after_pos_tagging.csv',index=False)"
   ]
  },
  {
   "cell_type": "markdown",
   "metadata": {
    "id": "2VHzWUGfYqhS"
   },
   "source": [
    "# Removing stopwords"
   ]
  },
  {
   "cell_type": "code",
   "execution_count": 17,
   "metadata": {
    "id": "TTbK5zqDYua4"
   },
   "outputs": [],
   "source": [
    "stop_words=set(stopwords.words('english'))\n",
    "def remove_stopword(text):\n",
    "  re_sw=[word for word in text if word not in stop_words]\n",
    "  return re_sw\n",
    "df['remove_sw']=df['after_tokenization'].apply(lambda x:remove_stopword(x))\n",
    "df.to_csv('after_re_sw.csv',index=False)"
   ]
  },
  {
   "cell_type": "markdown",
   "metadata": {
    "id": "RaN_YDuIo7vv"
   },
   "source": [
    "# Lemmatization"
   ]
  },
  {
   "cell_type": "code",
   "execution_count": 18,
   "metadata": {
    "id": "SeSKEkCqo--W"
   },
   "outputs": [],
   "source": [
    "ln=nltk.WordNetLemmatizer()\n",
    "def lemm(text):\n",
    "  z=[ln.lemmatize(word) for word in text]\n",
    "  return z\n",
    "df['after_lemmatization']=df['remove_sw'].apply(lambda x:lemm(x))\n",
    "df.to_csv('after_lemmatization.csv',index=False)"
   ]
  },
  {
   "cell_type": "code",
   "execution_count": 19,
   "metadata": {
    "id": "rMRYzLsFurcw"
   },
   "outputs": [],
   "source": [
    "nlp = spacy.load(\"en_core_web_sm\")"
   ]
  },
  {
   "cell_type": "markdown",
   "metadata": {
    "id": "84KLHmhwwyHs"
   },
   "source": [
    "# Displaying Noun phrases in each column"
   ]
  },
  {
   "cell_type": "code",
   "execution_count": 20,
   "metadata": {
    "colab": {
     "base_uri": "https://localhost:8080/"
    },
    "id": "wm0EZ6vJw9fK",
    "outputId": "e19e37af-1c4b-4f4a-90fe-c8fb00195af6"
   },
   "outputs": [
    {
     "data": {
      "text/plain": [
       "0      [Data Science Skills Programming Languages Pyt...\n",
       "1      [Data Science Education Details May 2013 May 2...\n",
       "2      [Data Science Areas Interest Deep Learning Con...\n",
       "3      [Data Science Skills â R â Python, SAP, HANA, ...\n",
       "4      [Data Science Education Details MCA YMCAUST Fa...\n",
       "                             ...                        \n",
       "957    [Computer Skills â Proficient MS office, Word ...\n",
       "958    [Testing â Willingness, challenge, Positive th...\n",
       "959    [Testing PERSONAL SKILLS â Quick learner â Eag...\n",
       "960    [Testing COMPUTER SKILLS SOFTWARE, KNOWLEDGE M...\n",
       "961    [Testing Skill Set OS Windows XP, 2012 Languag...\n",
       "Name: noun_phrases, Length: 962, dtype: object"
      ]
     },
     "execution_count": 20,
     "metadata": {},
     "output_type": "execute_result"
    }
   ],
   "source": [
    "def noun_phrases(text):\n",
    "  x=' '.join([y for y in text])\n",
    "  doc=nlp(x)\n",
    "  return [chunk.text for chunk in doc.noun_chunks]\n",
    "df['noun_phrases']=df['after_lemmatization'].apply(lambda x:noun_phrases(x))\n",
    "df['noun_phrases']"
   ]
  },
  {
   "cell_type": "markdown",
   "metadata": {
    "id": "eozPZpFA10VY"
   },
   "source": [
    "# Displaying Verb forms in each column"
   ]
  },
  {
   "cell_type": "code",
   "execution_count": 21,
   "metadata": {
    "colab": {
     "base_uri": "https://localhost:8080/"
    },
    "id": "t2hp9CSQ1-O7",
    "outputId": "1d0a9bcc-77e0-4014-e088-469aec431d0f"
   },
   "outputs": [
    {
     "data": {
      "text/plain": [
       "0      [learn, learn, boost, embed, model, understand...\n",
       "1      [learn, sagar, deploy, learn, miss, encode, sc...\n",
       "2      [ltspice, ENTHUSIAST, excel, mathematic, work,...\n",
       "3      [learn, involve, analyse, come, give, carry, p...\n",
       "4                                                     []\n",
       "                             ...                        \n",
       "957    [test, work, motivate, check, follow, conduct,...\n",
       "958    [accept, declare, mention, bear, mention, perf...\n",
       "959    [learn, conduct, prepare, inverter, set, cause...\n",
       "960                             [wind, use, use, design]\n",
       "961    [test, report, handle, test, execute, coordina...\n",
       "Name: verb_forms, Length: 962, dtype: object"
      ]
     },
     "execution_count": 21,
     "metadata": {},
     "output_type": "execute_result"
    }
   ],
   "source": [
    "def verb_forms(text):\n",
    "  x=' '.join([y for y in text])\n",
    "  doc=nlp(x)\n",
    "  return [token.lemma_ for token in doc if token.pos_ == \"VERB\"]\n",
    "df['verb_forms']=df['after_lemmatization'].apply(lambda x:verb_forms(x))\n",
    "df['verb_forms']"
   ]
  },
  {
   "cell_type": "markdown",
   "metadata": {
    "id": "zu23RJUr37IP"
   },
   "source": [
    "# Displaying named entities"
   ]
  },
  {
   "cell_type": "code",
   "execution_count": null,
   "metadata": {
    "colab": {
     "base_uri": "https://localhost:8080/"
    },
    "id": "wBL1CoZ_4Av1",
    "outputId": "27fac751-ff1a-4758-d993-35b5d27dcb97"
   },
   "outputs": [],
   "source": [
    "def named_entities(text):\n",
    "  x=' '.join([y for y in text])\n",
    "  doc=nlp(x)\n",
    "  return [entity.text for entity in doc.ents]\n",
    "df['named_entities']=df['after_lemmatization'].apply(lambda x:named_entities(x))\n",
    "df['named_entities']"
   ]
  },
  {
   "cell_type": "markdown",
   "metadata": {
    "id": "RM48MRws8to2"
   },
   "source": [
    "# Merging noun phrases,verb forms,named entities as a single column to find the matched words & phrases"
   ]
  },
  {
   "cell_type": "code",
   "execution_count": null,
   "metadata": {
    "colab": {
     "base_uri": "https://localhost:8080/"
    },
    "id": "jq2Ai70X89kX",
    "outputId": "56941d78-a691-43ba-ad9d-a9720ec03a0b"
   },
   "outputs": [],
   "source": [
    "def string(text):\n",
    "  return set(' '.join([char for char in text]).lower().split(' '))\n",
    "df['total_words']=(df['noun_phrases']+df['verb_forms']+df['named_entities']).apply(lambda x:string(x))\n",
    "df['total_words']"
   ]
  },
  {
   "cell_type": "code",
   "execution_count": null,
   "metadata": {
    "colab": {
     "base_uri": "https://localhost:8080/"
    },
    "id": "FyhLXp1GvhEG",
    "outputId": "befa2d7e-5a3a-4ad0-ef96-db82fb519726"
   },
   "outputs": [],
   "source": [
    "df['total_words'][0]"
   ]
  },
  {
   "cell_type": "markdown",
   "metadata": {
    "id": "DFxRpWAwuGxm"
   },
   "source": [
    "# Creating the no of skills matching column in each resume"
   ]
  },
  {
   "cell_type": "code",
   "execution_count": null,
   "metadata": {
    "colab": {
     "base_uri": "https://localhost:8080/",
     "height": 1000
    },
    "id": "bjkFzV3Kk1h4",
    "outputId": "c23055c2-04aa-47b4-b7a8-953dcbfe68de"
   },
   "outputs": [],
   "source": [
    "def ct(text):\n",
    "  count=0\n",
    "  for i in text:\n",
    "    if i in skills_list:\n",
    "      count+=1\n",
    "  return count\n",
    "\n",
    "df['skills_matched']=df['total_words'].apply(lambda x:ct(x))\n",
    "df"
   ]
  },
  {
   "cell_type": "markdown",
   "metadata": {
    "id": "55D1oTtH0syL"
   },
   "source": [
    "# Displaying the top-10 resumes which matched more number of skills"
   ]
  },
  {
   "cell_type": "code",
   "execution_count": null,
   "metadata": {
    "colab": {
     "base_uri": "https://localhost:8080/",
     "height": 206
    },
    "id": "2RECoyFDlYTE",
    "outputId": "f1909872-d3bc-493d-94eb-1caf55e7865d"
   },
   "outputs": [],
   "source": [
    "df.sort_values(by='skills_matched',inplace=True,ascending=False)\n",
    "df[['Category','Resume','skills_matched']].head()"
   ]
  },
  {
   "cell_type": "markdown",
   "metadata": {
    "id": "LTammu47HrVN"
   },
   "source": [
    "# Resumes which skills matched more than 40"
   ]
  },
  {
   "cell_type": "code",
   "execution_count": null,
   "metadata": {
    "colab": {
     "base_uri": "https://localhost:8080/",
     "height": 1000
    },
    "id": "wRt8znUxHRvc",
    "outputId": "57faafb7-efaa-40a0-90a1-68be71f4b024"
   },
   "outputs": [],
   "source": [
    "df[df['skills_matched']>=40][['Category','Resume','skills_matched']]"
   ]
  },
  {
   "cell_type": "code",
   "execution_count": null,
   "metadata": {
    "colab": {
     "base_uri": "https://localhost:8080/"
    },
    "id": "IHAqUVGfHjts",
    "outputId": "174bc925-36a9-4a93-f26f-665b9ec08335"
   },
   "outputs": [],
   "source": [
    "len(df[df['skills_matched']>=40][['Category','Resume','skills_matched']])"
   ]
  },
  {
   "cell_type": "markdown",
   "metadata": {
    "id": "nLsfCm4WIIUm"
   },
   "source": [
    "# There are 34 resumes which the number of skills matched is more than 40"
   ]
  },
  {
   "cell_type": "markdown",
   "metadata": {
    "id": "I6kc_8aJ4aH9"
   },
   "source": [
    "# Skills matching values & their record counts"
   ]
  },
  {
   "cell_type": "code",
   "execution_count": null,
   "metadata": {
    "colab": {
     "base_uri": "https://localhost:8080/"
    },
    "id": "nTKWml_h-TmN",
    "outputId": "aa63ea56-fafd-4b80-9a0f-96f641c2d119"
   },
   "outputs": [],
   "source": [
    "df['skills_matched'].value_counts()"
   ]
  },
  {
   "cell_type": "code",
   "execution_count": null,
   "metadata": {
    "colab": {
     "base_uri": "https://localhost:8080/",
     "height": 312
    },
    "id": "dpkOXhFP4YLf",
    "outputId": "12c3d1cb-8a4d-4f0b-d4d8-80e6c9c526f5"
   },
   "outputs": [],
   "source": [
    "plt.hist(df['skills_matched'],bins=25,color='coral')\n",
    "plt.ylim(0,20)\n",
    "plt.xlabel('Skills matching values')\n",
    "plt.ylabel('No of Records')\n",
    "plt.title('Skill matching values count in different ranges')"
   ]
  },
  {
   "cell_type": "markdown",
   "metadata": {
    "id": "gBXcgzjOIW1C"
   },
   "source": [
    "# Observation in above chart :\n",
    "\n",
    "*  Most of the resumes are not properly matched the skillsets and matched skillsets are below 40 \n",
    "* Only 34 resumes are matching more than 40 resumes"
   ]
  },
  {
   "cell_type": "markdown",
   "metadata": {
    "id": "-C3pkF50KGSy"
   },
   "source": [
    "# Conclusion :\n",
    "\n",
    "* We can select resumes which are matching more than 40 skillsets.**34 Records** are present which matched more than 40 phrases.\n",
    "\n"
   ]
  }
 ],
 "metadata": {
  "colab": {
   "provenance": []
  },
  "kernelspec": {
   "display_name": "Python 3",
   "language": "python",
   "name": "python3"
  },
  "language_info": {
   "codemirror_mode": {
    "name": "ipython",
    "version": 3
   },
   "file_extension": ".py",
   "mimetype": "text/x-python",
   "name": "python",
   "nbconvert_exporter": "python",
   "pygments_lexer": "ipython3",
   "version": "3.6.2"
  }
 },
 "nbformat": 4,
 "nbformat_minor": 1
}
